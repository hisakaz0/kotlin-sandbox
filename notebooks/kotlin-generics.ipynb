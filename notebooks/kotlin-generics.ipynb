{
 "cells": [
  {
   "cell_type": "markdown",
   "metadata": {},
   "source": [
    "# kotlin generics\n",
    "https://kotlinlang.org/docs/generics.html\n",
    "\n",
    "kotlinのgenericsを覚えるノート。\n",
    "写経しつつ、自分の言葉で書いてみる。"
   ]
  },
  {
   "cell_type": "markdown",
   "metadata": {},
   "source": [
    "* Boxは「型パラメータ」を必要とするクラス\n",
    "* `Box<Int>` で型を指定する"
   ]
  },
  {
   "cell_type": "code",
   "execution_count": 2,
   "metadata": {},
   "outputs": [],
   "source": [
    "class Box<T>(t: T) {\n",
    "    var value = t\n",
    "}"
   ]
  },
  {
   "cell_type": "code",
   "execution_count": 3,
   "metadata": {},
   "outputs": [],
   "source": [
    "val box: Box<Int> = Box<Int>(1)"
   ]
  },
  {
   "cell_type": "code",
   "execution_count": 4,
   "metadata": {},
   "outputs": [
    {
     "name": "stdout",
     "output_type": "stream",
     "text": [
      "1\n"
     ]
    }
   ],
   "source": [
    "println(box.value)"
   ]
  },
  {
   "cell_type": "markdown",
   "metadata": {},
   "source": [
    "コンストラクタ引数にパラメータが推論可能な場合は、型パラメータを省略できる（＝型推論）"
   ]
  },
  {
   "cell_type": "code",
   "execution_count": 6,
   "metadata": {},
   "outputs": [],
   "source": [
    "val box2 = Box(2)"
   ]
  },
  {
   "cell_type": "code",
   "execution_count": 7,
   "metadata": {},
   "outputs": [
    {
     "name": "stdout",
     "output_type": "stream",
     "text": [
      "2\n"
     ]
    }
   ],
   "source": [
    "println(box2.value)"
   ]
  },
  {
   "cell_type": "markdown",
   "metadata": {},
   "source": [
    "## 変位\n",
    "ここから難しいやつ。\n",
    "Javaのジェネリクスは不変。つまり、`List<String>`は `List<Object>` のサブタイプではない。\n",
    "`List`が不変でない場合、次のコードはコンパイルされるが、実行時に例外が発生する。\n",
    "\n",
    "```java\n",
    "// Java\n",
    "List<String> strs = new ArrayList<String>();\n",
    "List<Object> objs = strs; // 本当はコンパイルエラーになるけど、不変でない場合はコンパイルできる\n",
    "objs.add(1);\n",
    "String s = strgs.get(0); // ランタイムエラー、ClassCastExceptionになる。\n",
    "```\n",
    "\n",
    "↑のようなランタイムエラーを起きないようにするために、コンパイルエラーで防いでいる。\n",
    "けど、別の影響もある。たとえば、`Collection` interfaceの `addAll` methodを考えてみよう。\n",
    "\n",
    "直感的に書くとシグネチャは次になるかもしれない。\n",
    "```java\n",
    "// Java\n",
    "interface Collection<E> ... {\n",
    "    void addAll(Collection<E> items);\n",
    "}\n",
    "```\n",
    "\n",
    "けれども実際は次。\n",
    "\n",
    "```java\n",
    "// Java\n",
    "interface Collection<E> ... {\n",
    "    void addAll(Collection<? extends E> items);\n",
    "}\n",
    "```"
   ]
  },
  {
   "cell_type": "markdown",
   "metadata": {},
   "source": [
    "ワイルドカード型引数 `? exnteds E`は、E自体とEのサブタイプを受け入れる。\n",
    "型Eの要素を読み取りできる。けれども、オブジェクトのクラスはどのクラスかは分からないので、書き込みはできない\n",
    "（Eを継承しているのは知ってるけど、どのEのサブタイプかまでは知らない）。\n",
    "\n",
    "この制限と引き換えに、望む振る舞いは `Collection<String>` は  `Collection<? exnteds Object>` になること（？）\n",
    "言い換えると、 exnteds付きのワイルドカード(upper-bound)は型を共変にします。\n",
    "\n",
    "これが機能する理由が簡単。\n",
    "Collectionからのみ値を取得できる場合は、`Collection<String>`を使ってObjectを読み出しすることは問題ない。\n",
    "逆に、Collectionへ値をputするだけの場合は、Collection<Object>`を使ってStringをputできる。\n",
    "\n",
    "Javaの場合、`List<? super String>` で、 `List<Object>` のスーパータイプ。\n",
    "後者は「反変性」と呼び、`List<? super String>`に対してStringを取るメソッドを呼ぶことができる。\n",
    "（たとえば、 `add(String)` とか `set(int, String)`とか）\n",
    "\n",
    "`List<T>`でTを返すメソッドを呼ぶと、Stringは得られなくて、Objectが得られる。\n",
    "\n",
    "読み取り専用のオブジェクトは「プロデューサー」、書き込み専用のオブジェクトは「コンシュマー」。\n",
    "\n",
    "\n",
    "> If you use a producer-object, say, List<? extends Foo>, you are not allowed to call add() or set() on this object, but this does not mean that it is immutable: for example, nothing prevents you from calling clear() to remove all the items from the list, since clear() does not take any parameters at all. \r\n",
    "The only thing guaranteed by wildcards (or other types of variance) is type safety. Immutability is a completely different story.y."
   ]
  },
  {
   "cell_type": "markdown",
   "metadata": {},
   "source": [
    "### 定義元の変位\n",
    "`Source<T>` に引数を取らなくて、`T`を返却するメソッドを用意してみる\n",
    "\n",
    "```java\n",
    "// Java\n",
    "interface Source<T> {\n",
    "    T nextT();\n",
    "}\n",
    "```\n",
    "\n",
    "この場合、`Source<Strings>` の参照を `Source<Object>`に入れても安全ははず。\n",
    "だって、コンシュマーな呼び出し（書き込み処理）がないのだから。\n",
    "けれどもJavaはこのことを知らないから、コンパイルエラーになる。\n",
    "\n",
    "```java\n",
    "// Java\n",
    "void demo(Source<String> strs) {\n",
    "    Source<Object> objects = strs; // コンパイルエラー\n",
    "}\n",
    "```\n",
    "\n",
    "この問題を修正するために、`Source<? extends Object>` と型パラメータを宣言する必要がある。\n",
    "\n",
    "> Doing so is meaningless, because you can call all the same methods on such a variable as before, so there's no value added by the more complex type. But the compiler does not know that.\n",
    "\n",
    "（↑解説っぽい文章。Javaだと難しい理由が書いてある）\n",
    "\n",
    "> In Kotlin, there is a way to explain this sort of thing to the compiler. This is called declaration-site variance: you can annotate the type parameter T of Source to make sure that it is only returned (produced) from members of Source<T>, and never consumed. To do this, use the out modifier:\r\n",
    "\n",
    "kotlinの場合、コンパイラーに情報を渡せる。その情報を「定義元の変位」と呼んでいる。\n",
    "型パラメータTに注釈をつけて、それが `Source<T>`のメンバーから読み返却され(produced)、\n",
    "消費されないようにできる。\n",
    "\n",
    "↑のようにするには、`out` をつける\n",
    "\n",
    "\n",
    "."
   ]
  },
  {
   "cell_type": "code",
   "execution_count": 12,
   "metadata": {},
   "outputs": [],
   "source": [
    "// OK\n",
    "interface Source<out T> {\n",
    "    fun nextT(): T\n",
    "}\n",
    "fun demo(strs: Source<String>) {\n",
    "    val objects: Source<Any> = strs\n",
    "}"
   ]
  },
  {
   "cell_type": "code",
   "execution_count": 18,
   "metadata": {},
   "outputs": [
    {
     "name": "stderr",
     "output_type": "stream",
     "text": [
      "Line_17.jupyter.kts (6:9 - 16) Variable 'objects' is never used\n",
      "Line_17.jupyter.kts (6:32 - 36) Type mismatch: inferred type is Line_17_jupyter.Source<String> but Line_17_jupyter.Source<Any> was expected"
     ]
    }
   ],
   "source": [
    "// NG: outが付かない場合はコンパイルエラーになる\n",
    "interface Source<T> {\n",
    "    fun nextT(): T\n",
    "}\n",
    "fun demo(strs: Source<String>) {\n",
    "    val objects: Source<Any> = strs\n",
    "}"
   ]
  },
  {
   "cell_type": "markdown",
   "metadata": {},
   "source": [
    "一般的なルールとして、\n",
    "\n",
    "\n",
    "`class C<out T>`と宣言する場合、Cのメンバーの外側で発生するけど（？）、その代わりに`C<Base>`は安全にサブタイプである`C<Derived>`になれる。\n",
    "\n",
    "言い換えれば、Cの型パラメータTは共変、Tは共変な型パラメータ。\n",
    "Cは、Tのproducerであり、Tのconsumerではない（＝Tを読み取りできる）。\n",
    "\n",
    "`out` 修飾子を変位アノテーションと呼び、型パラメータ宣言場所で提供されるから、「宣言元の変位」と呼ぶ。\n",
    "\n",
    "これは、型の使用におけるワイルドカードによって型が共変になるJavaの「呼び出し元の変位」とは対象的（？）\n",
    "\n",
    "`out` に加えて、kotlinは補完的な変位 `in` がある（対になってるのかな）。\n",
    "型パラメータを反変にする。書き込みだけでき、読み取りはできない。\n",
    "\n",
    "反変な型の良い例として、 `Comparable` がある。"
   ]
  },
  {
   "cell_type": "code",
   "execution_count": 16,
   "metadata": {},
   "outputs": [],
   "source": [
    "// OK\n",
    "interface Comparable<in T> {\n",
    "    operator fun compareTo(other: T): Int\n",
    "}\n",
    "\n",
    "fun demo(x: Comparable<Number>) {\n",
    "    x.compareTo(1.0) // 1.0はDouble. DoubleはNumberのサブタイプ\n",
    "    // だから、Comparable<Double>にxを割り当てできる\n",
    "    val y: Comparable<Double> = x // OK\n",
    "}"
   ]
  },
  {
   "cell_type": "code",
   "execution_count": 19,
   "metadata": {},
   "outputs": [
    {
     "name": "stderr",
     "output_type": "stream",
     "text": [
      "Line_18.jupyter.kts (9:9 - 10) Variable 'y' is never used\n",
      "Line_18.jupyter.kts (9:33 - 34) Type mismatch: inferred type is Line_18_jupyter.Comparable<Number> but Line_18_jupyter.Comparable<Double> was expected"
     ]
    }
   ],
   "source": [
    "// NG: inをつけないとコンパイルエラーになる\n",
    "interface Comparable<T> {\n",
    "    operator fun compareTo(other: T): Int\n",
    "}\n",
    "\n",
    "fun demo(x: Comparable<Number>) {\n",
    "    x.compareTo(1.0) // 1.0はDouble. DoubleはNumberのサブタイプ\n",
    "    // だから、Comparable<Double>にxを割り当てできる\n",
    "    val y: Comparable<Double> = x // OK\n",
    "}"
   ]
  },
  {
   "cell_type": "markdown",
   "metadata": {},
   "source": [
    "C#で長い間使われていたキーワードだから、簡単に覚えれるでしょ。"
   ]
  },
  {
   "cell_type": "markdown",
   "metadata": {},
   "source": [
    "## 型投影"
   ]
  },
  {
   "cell_type": "code",
   "execution_count": null,
   "metadata": {},
   "outputs": [],
   "source": []
  },
  {
   "cell_type": "markdown",
   "metadata": {},
   "source": [
    "### 用語\n",
    "* variance: 変位\n",
    "* invariant: 不変\n",
    "* covariant: 共変\n",
    "* contravariance: 反変性\n",
    "* subtype: あるclass Aを継承したclass Bのこと\n",
    "* supertype: あるclass Bの継承元の、あるclass Aのこと\n",
    "* signature: return type, method name, method argumentsから構成するもの。メソッドを識別するのに使う。\n",
    "* call-site/use-site: 呼び出し元。定義した関数を呼び出す場所。\n",
    "* declaration-site: 定義した場所"
   ]
  }
 ],
 "metadata": {
  "kernelspec": {
   "display_name": "Kotlin",
   "language": "kotlin",
   "name": "kotlin"
  },
  "language_info": {
   "codemirror_mode": "text/x-kotlin",
   "file_extension": ".kt",
   "mimetype": "text/x-kotlin",
   "name": "kotlin",
   "nbconvert_exporter": "",
   "pygments_lexer": "kotlin",
   "version": "1.8.20"
  }
 },
 "nbformat": 4,
 "nbformat_minor": 4
}
